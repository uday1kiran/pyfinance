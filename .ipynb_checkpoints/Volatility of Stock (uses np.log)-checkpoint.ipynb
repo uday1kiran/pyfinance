{
 "cells": [
  {
   "cell_type": "markdown",
   "metadata": {},
   "source": [
    "# Volatility\n",
    "- Wiki: We use log-returns (hence, need np.log)\n",
    "    - https://en.wikipedia.org/wiki/Volatility_(finance)\n",
    "- tutorial\n",
    "    - https://tinytrader.io/how-to-calculate-historical-price-volatility-with-python/\n",
    "- Help\n",
    "    - https://stackoverflow.com/questions/31287552/logarithmic-returns-in-pandas-dataframe\n",
    "    - https://stackoverflow.com/questions/31287552/logarithmic-returns-in-pandas-dataframe"
   ]
  },
  {
   "cell_type": "code",
   "execution_count": null,
   "metadata": {},
   "outputs": [],
   "source": []
  }
 ],
 "metadata": {
  "kernelspec": {
   "display_name": "Python 3",
   "language": "python",
   "name": "python3"
  },
  "language_info": {
   "codemirror_mode": {
    "name": "ipython",
    "version": 3
   },
   "file_extension": ".py",
   "mimetype": "text/x-python",
   "name": "python",
   "nbconvert_exporter": "python",
   "pygments_lexer": "ipython3",
   "version": "3.8.5"
  }
 },
 "nbformat": 4,
 "nbformat_minor": 4
}
