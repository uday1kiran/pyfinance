{
 "cells": [
  {
   "cell_type": "markdown",
   "metadata": {},
   "source": [
    "# Capital Asset Pricing Model (CAPM)\n",
    "- https://www.investopedia.com/terms/c/capm.asp"
   ]
  },
  {
   "cell_type": "markdown",
   "metadata": {},
   "source": [
    "### CAPM\n",
    "\n",
    "$ER_i = R_f + \\beta_i(ER_m - R_f)$\n",
    "* $ER_i$: Expected return from investment\n",
    "* $R_f$: Risk free return\n",
    "* $\\beta_i$: The beta of the investment\n",
    "* $(ER_m - R_f)$: Market risk premium"
   ]
  },
  {
   "cell_type": "markdown",
   "metadata": {},
   "source": [
    "**Risk free return** 10 Year Treasury Note\n",
    "- https://www.treasury.gov/resource-center/data-chart-center/interest-rates/pages/textview.aspx?data=yield"
   ]
  },
  {
   "cell_type": "markdown",
   "metadata": {},
   "source": [
    "**Market risk premium**\n",
    "- https://www.investopedia.com/terms/m/marketriskpremium.asp\n",
    "- Between 1926 and 2014, the S&P 500 exhibited a 10.5% compounding annual rate of return"
   ]
  },
  {
   "cell_type": "code",
   "execution_count": 1,
   "metadata": {},
   "outputs": [],
   "source": [
    "import pandas as pd\n",
    "import numpy as np"
   ]
  },
  {
   "cell_type": "code",
   "execution_count": 2,
   "metadata": {},
   "outputs": [],
   "source": [
    "ticker = \"AAPL\"\n",
    "data = pd.read_csv(ticker.lower() + \"-m.csv\", index_col=0, parse_dates=True)\n",
    "sp500 = pd.read_csv(\"sp500-m.csv\", index_col=0, parse_dates=True)"
   ]
  },
  {
   "cell_type": "code",
   "execution_count": 3,
   "metadata": {},
   "outputs": [],
   "source": [
    "col = 'Adj Close'\n",
    "sp500['SP500'] = np.log(sp500[col]/sp500[col].shift())\n",
    "data[ticker] = np.log(data[col]/data[col].shift())"
   ]
  },
  {
   "cell_type": "code",
   "execution_count": 4,
   "metadata": {},
   "outputs": [],
   "source": [
    "df = pd.concat([sp500['SP500'], data[ticker]], axis=1)"
   ]
  },
  {
   "cell_type": "code",
   "execution_count": 5,
   "metadata": {},
   "outputs": [],
   "source": [
    "covariance = df.cov()\n",
    "variance = df['SP500'].var()\n",
    "beta = covariance.iloc[0, 1]/variance"
   ]
  },
  {
   "cell_type": "code",
   "execution_count": 6,
   "metadata": {},
   "outputs": [
    {
     "data": {
      "text/plain": [
       "1.2783253531221666"
      ]
     },
     "execution_count": 6,
     "metadata": {},
     "output_type": "execute_result"
    }
   ],
   "source": [
    "beta"
   ]
  },
  {
   "cell_type": "code",
   "execution_count": 7,
   "metadata": {},
   "outputs": [],
   "source": [
    "risk_free_return = 0.011\n",
    "market_return = 0.105\n",
    "expected_return = risk_free_return + beta*(market_return - risk_free_return)"
   ]
  },
  {
   "cell_type": "code",
   "execution_count": 8,
   "metadata": {
    "scrolled": true
   },
   "outputs": [
    {
     "data": {
      "text/plain": [
       "0.13116258319348367"
      ]
     },
     "execution_count": 8,
     "metadata": {},
     "output_type": "execute_result"
    }
   ],
   "source": [
    "expected_return"
   ]
  },
  {
   "cell_type": "code",
   "execution_count": null,
   "metadata": {},
   "outputs": [],
   "source": []
  },
  {
   "cell_type": "markdown",
   "metadata": {},
   "source": [
    "If $R_f = 0$ we have $ER_i = \\beta_i\\times ER_m$"
   ]
  },
  {
   "cell_type": "code",
   "execution_count": 9,
   "metadata": {},
   "outputs": [
    {
     "data": {
      "text/plain": [
       "0.13422416207782747"
      ]
     },
     "execution_count": 9,
     "metadata": {},
     "output_type": "execute_result"
    }
   ],
   "source": [
    "beta*market_return"
   ]
  },
  {
   "cell_type": "code",
   "execution_count": null,
   "metadata": {},
   "outputs": [],
   "source": []
  },
  {
   "cell_type": "markdown",
   "metadata": {},
   "source": [
    "Calculate for multiple"
   ]
  },
  {
   "cell_type": "code",
   "execution_count": 10,
   "metadata": {},
   "outputs": [],
   "source": [
    "tickers = [\"FB\", \"NVDA\", \"AMZN\", \"HP\", \"AAPL\"]\n",
    "\n",
    "df_list = [sp500['Adj Close']]\n",
    "for ticker in tickers:\n",
    "    df = pd.read_csv(ticker.lower() + \"-m.csv\", index_col=0, parse_dates=True)\n",
    "    df_list.append(df['Adj Close'])\n",
    "\n",
    "data = pd.concat(df_list, axis=1)\n",
    "data.columns = [\"SP500\"] + tickers"
   ]
  },
  {
   "cell_type": "code",
   "execution_count": 11,
   "metadata": {},
   "outputs": [],
   "source": [
    "data = np.log(data/data.shift())"
   ]
  },
  {
   "cell_type": "code",
   "execution_count": 12,
   "metadata": {},
   "outputs": [
    {
     "data": {
      "text/html": [
       "<div>\n",
       "<style scoped>\n",
       "    .dataframe tbody tr th:only-of-type {\n",
       "        vertical-align: middle;\n",
       "    }\n",
       "\n",
       "    .dataframe tbody tr th {\n",
       "        vertical-align: top;\n",
       "    }\n",
       "\n",
       "    .dataframe thead th {\n",
       "        text-align: right;\n",
       "    }\n",
       "</style>\n",
       "<table border=\"1\" class=\"dataframe\">\n",
       "  <thead>\n",
       "    <tr style=\"text-align: right;\">\n",
       "      <th></th>\n",
       "      <th>SP500</th>\n",
       "      <th>AAPL</th>\n",
       "    </tr>\n",
       "  </thead>\n",
       "  <tbody>\n",
       "    <tr>\n",
       "      <th>SP500</th>\n",
       "      <td>0.001929</td>\n",
       "      <td>0.002466</td>\n",
       "    </tr>\n",
       "    <tr>\n",
       "      <th>AAPL</th>\n",
       "      <td>0.002466</td>\n",
       "      <td>0.007561</td>\n",
       "    </tr>\n",
       "  </tbody>\n",
       "</table>\n",
       "</div>"
      ],
      "text/plain": [
       "          SP500      AAPL\n",
       "SP500  0.001929  0.002466\n",
       "AAPL   0.002466  0.007561"
      ]
     },
     "execution_count": 12,
     "metadata": {},
     "output_type": "execute_result"
    }
   ],
   "source": [
    "covariance"
   ]
  },
  {
   "cell_type": "code",
   "execution_count": 13,
   "metadata": {},
   "outputs": [],
   "source": [
    "cov = data.cov()"
   ]
  },
  {
   "cell_type": "code",
   "execution_count": 14,
   "metadata": {},
   "outputs": [
    {
     "data": {
      "text/html": [
       "<div>\n",
       "<style scoped>\n",
       "    .dataframe tbody tr th:only-of-type {\n",
       "        vertical-align: middle;\n",
       "    }\n",
       "\n",
       "    .dataframe tbody tr th {\n",
       "        vertical-align: top;\n",
       "    }\n",
       "\n",
       "    .dataframe thead th {\n",
       "        text-align: right;\n",
       "    }\n",
       "</style>\n",
       "<table border=\"1\" class=\"dataframe\">\n",
       "  <thead>\n",
       "    <tr style=\"text-align: right;\">\n",
       "      <th></th>\n",
       "      <th>SP500</th>\n",
       "      <th>FB</th>\n",
       "      <th>NVDA</th>\n",
       "      <th>AMZN</th>\n",
       "      <th>HP</th>\n",
       "      <th>AAPL</th>\n",
       "    </tr>\n",
       "  </thead>\n",
       "  <tbody>\n",
       "    <tr>\n",
       "      <th>SP500</th>\n",
       "      <td>0.001929</td>\n",
       "      <td>0.002178</td>\n",
       "      <td>0.002779</td>\n",
       "      <td>0.002231</td>\n",
       "      <td>0.004808</td>\n",
       "      <td>0.002466</td>\n",
       "    </tr>\n",
       "    <tr>\n",
       "      <th>FB</th>\n",
       "      <td>0.002178</td>\n",
       "      <td>0.005975</td>\n",
       "      <td>0.003602</td>\n",
       "      <td>0.003522</td>\n",
       "      <td>0.004169</td>\n",
       "      <td>0.003671</td>\n",
       "    </tr>\n",
       "    <tr>\n",
       "      <th>NVDA</th>\n",
       "      <td>0.002779</td>\n",
       "      <td>0.003602</td>\n",
       "      <td>0.015205</td>\n",
       "      <td>0.004877</td>\n",
       "      <td>0.004326</td>\n",
       "      <td>0.006043</td>\n",
       "    </tr>\n",
       "    <tr>\n",
       "      <th>AMZN</th>\n",
       "      <td>0.002231</td>\n",
       "      <td>0.003522</td>\n",
       "      <td>0.004877</td>\n",
       "      <td>0.006410</td>\n",
       "      <td>0.002990</td>\n",
       "      <td>0.003478</td>\n",
       "    </tr>\n",
       "    <tr>\n",
       "      <th>HP</th>\n",
       "      <td>0.004808</td>\n",
       "      <td>0.004169</td>\n",
       "      <td>0.004326</td>\n",
       "      <td>0.002990</td>\n",
       "      <td>0.025433</td>\n",
       "      <td>0.003067</td>\n",
       "    </tr>\n",
       "    <tr>\n",
       "      <th>AAPL</th>\n",
       "      <td>0.002466</td>\n",
       "      <td>0.003671</td>\n",
       "      <td>0.006043</td>\n",
       "      <td>0.003478</td>\n",
       "      <td>0.003067</td>\n",
       "      <td>0.007561</td>\n",
       "    </tr>\n",
       "  </tbody>\n",
       "</table>\n",
       "</div>"
      ],
      "text/plain": [
       "          SP500        FB      NVDA      AMZN        HP      AAPL\n",
       "SP500  0.001929  0.002178  0.002779  0.002231  0.004808  0.002466\n",
       "FB     0.002178  0.005975  0.003602  0.003522  0.004169  0.003671\n",
       "NVDA   0.002779  0.003602  0.015205  0.004877  0.004326  0.006043\n",
       "AMZN   0.002231  0.003522  0.004877  0.006410  0.002990  0.003478\n",
       "HP     0.004808  0.004169  0.004326  0.002990  0.025433  0.003067\n",
       "AAPL   0.002466  0.003671  0.006043  0.003478  0.003067  0.007561"
      ]
     },
     "execution_count": 14,
     "metadata": {},
     "output_type": "execute_result"
    }
   ],
   "source": [
    "cov"
   ]
  },
  {
   "cell_type": "code",
   "execution_count": 15,
   "metadata": {},
   "outputs": [],
   "source": [
    "beta = cov.loc['SP500']/variance"
   ]
  },
  {
   "cell_type": "code",
   "execution_count": 16,
   "metadata": {},
   "outputs": [
    {
     "data": {
      "text/plain": [
       "SP500    1.000000\n",
       "FB       1.129370\n",
       "NVDA     1.440589\n",
       "AMZN     1.156593\n",
       "HP       2.492531\n",
       "AAPL     1.278325\n",
       "Name: SP500, dtype: float64"
      ]
     },
     "execution_count": 16,
     "metadata": {},
     "output_type": "execute_result"
    }
   ],
   "source": [
    "beta"
   ]
  },
  {
   "cell_type": "code",
   "execution_count": 17,
   "metadata": {},
   "outputs": [],
   "source": [
    "risk_free_return = 0.011\n",
    "market_return = 0.105\n",
    "expected_return = risk_free_return + beta*(market_return - risk_free_return)"
   ]
  },
  {
   "cell_type": "code",
   "execution_count": 18,
   "metadata": {},
   "outputs": [
    {
     "data": {
      "text/plain": [
       "SP500    0.105000\n",
       "FB       0.117161\n",
       "NVDA     0.146415\n",
       "AMZN     0.119720\n",
       "HP       0.245298\n",
       "AAPL     0.131163\n",
       "Name: SP500, dtype: float64"
      ]
     },
     "execution_count": 18,
     "metadata": {},
     "output_type": "execute_result"
    }
   ],
   "source": [
    "expected_return"
   ]
  },
  {
   "cell_type": "code",
   "execution_count": null,
   "metadata": {},
   "outputs": [],
   "source": []
  }
 ],
 "metadata": {
  "kernelspec": {
   "display_name": "Python 3",
   "language": "python",
   "name": "python3"
  },
  "language_info": {
   "codemirror_mode": {
    "name": "ipython",
    "version": 3
   },
   "file_extension": ".py",
   "mimetype": "text/x-python",
   "name": "python",
   "nbconvert_exporter": "python",
   "pygments_lexer": "ipython3",
   "version": "3.8.5"
  }
 },
 "nbformat": 4,
 "nbformat_minor": 4
}
