{
 "cells": [
  {
   "cell_type": "markdown",
   "metadata": {},
   "source": [
    "# Sharpe ratio\n",
    "- https://www.investopedia.com/terms/s/sharperatio.asp\n",
    "- developed by Nobel laureate William F. Sharpe and is used to help investors understand the return of an investment compared to its risk."
   ]
  },
  {
   "cell_type": "markdown",
   "metadata": {},
   "source": [
    "Formula\n",
    "\n",
    "$SR = \\frac{R_p - R_f}{\\sigma_p}$\n",
    "- $SR$: Sharpe ratio\n",
    "- $R_p$: return of portfolio\n",
    "- $R_f$: risk free return\n",
    "- $\\sigma_p$: standard deviation of portfolio"
   ]
  }
 ],
 "metadata": {
  "kernelspec": {
   "display_name": "Python 3",
   "language": "python",
   "name": "python3"
  },
  "language_info": {
   "codemirror_mode": {
    "name": "ipython",
    "version": 3
   },
   "file_extension": ".py",
   "mimetype": "text/x-python",
   "name": "python",
   "nbconvert_exporter": "python",
   "pygments_lexer": "ipython3",
   "version": "3.8.5"
  }
 },
 "nbformat": 4,
 "nbformat_minor": 4
}
