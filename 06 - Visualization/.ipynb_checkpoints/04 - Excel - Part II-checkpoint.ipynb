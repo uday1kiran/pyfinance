{
 "cells": [
  {
   "cell_type": "code",
   "execution_count": 1,
   "metadata": {},
   "outputs": [],
   "source": [
    "import pandas as pd"
   ]
  },
  {
   "cell_type": "code",
   "execution_count": 2,
   "metadata": {},
   "outputs": [],
   "source": [
    "ticker = \"NFLX\""
   ]
  },
  {
   "cell_type": "code",
   "execution_count": 35,
   "metadata": {},
   "outputs": [],
   "source": [
    "def read_annual_data(csv_file, ticker):\n",
    "    data = pd.read_csv(csv_file, index_col=0)\n",
    "    data = data[ticker]\n",
    "    data = data.loc[2008:2019]\n",
    "    data = data.pct_change()\n",
    "    data = data.loc[2009:2019]\n",
    "    return data"
   ]
  },
  {
   "cell_type": "code",
   "execution_count": 58,
   "metadata": {},
   "outputs": [],
   "source": [
    "def read_quarterly_data(csv_file, ticker):\n",
    "    data = pd.read_csv(csv_file, index_col=0, parse_dates=True)\n",
    "    data = data[ticker]\n",
    "    data = data.resample('Y', convention='end').agg('mean')\n",
    "    data = data.pct_change()\n",
    "    data = data.loc['2009-01-01':'2019-12-31']\n",
    "    data.index = data.index.strftime(\"%Y\")\n",
    "    return data"
   ]
  },
  {
   "cell_type": "code",
   "execution_count": 36,
   "metadata": {},
   "outputs": [],
   "source": [
    "eps = read_annual_data(\"50-eps.csv\", ticker)"
   ]
  },
  {
   "cell_type": "code",
   "execution_count": 38,
   "metadata": {},
   "outputs": [],
   "source": [
    "fcf = read_annual_data(\"50-fcf.csv\", ticker)"
   ]
  },
  {
   "cell_type": "code",
   "execution_count": 39,
   "metadata": {},
   "outputs": [],
   "source": [
    "rev = read_annual_data(\"50-rev.csv\", ticker)"
   ]
  },
  {
   "cell_type": "code",
   "execution_count": 59,
   "metadata": {},
   "outputs": [],
   "source": [
    "bvps = read_quarterly_data(\"50-bvps.csv\", ticker)"
   ]
  },
  {
   "cell_type": "code",
   "execution_count": null,
   "metadata": {},
   "outputs": [],
   "source": []
  },
  {
   "cell_type": "code",
   "execution_count": 40,
   "metadata": {},
   "outputs": [],
   "source": [
    "def add_annual_data(writer, df, sheet_name):\n",
    "    df.to_excel(writer, sheet_name=sheet_name)\n",
    "    worksheet = writer.sheets[sheet_name]\n",
    "\n",
    "    # Create a new chart object.\n",
    "    chart = workbook.add_chart({'type': 'line'})\n",
    "\n",
    "    # Add a series to the chart.\n",
    "    chart.add_series({\n",
    "        'name': sheet_name,\n",
    "        'categories': [sheet_name, 2, 0, 12, 0],\n",
    "        'values': [sheet_name, 2, 1, 12, 1],\n",
    "    })\n",
    "\n",
    "    # Insert the chart into the worksheet.\n",
    "    worksheet.insert_chart('D1', chart)"
   ]
  },
  {
   "cell_type": "code",
   "execution_count": 60,
   "metadata": {},
   "outputs": [],
   "source": [
    "writer = pd.ExcelWriter('data3.xlsx', engine='xlsxwriter')\n",
    "workbook = writer.book\n",
    "\n",
    "add_annual_data(writer, eps, 'EPS')\n",
    "add_annual_data(writer, fcf, 'FCF')\n",
    "add_annual_data(writer, rev, 'Revenue')\n",
    "add_annual_data(writer, bvps, 'BVPS')\n",
    "\n",
    "workbook.close()\n"
   ]
  },
  {
   "cell_type": "code",
   "execution_count": null,
   "metadata": {},
   "outputs": [],
   "source": []
  }
 ],
 "metadata": {
  "kernelspec": {
   "display_name": "Python 3",
   "language": "python",
   "name": "python3"
  },
  "language_info": {
   "codemirror_mode": {
    "name": "ipython",
    "version": 3
   },
   "file_extension": ".py",
   "mimetype": "text/x-python",
   "name": "python",
   "nbconvert_exporter": "python",
   "pygments_lexer": "ipython3",
   "version": "3.8.5"
  }
 },
 "nbformat": 4,
 "nbformat_minor": 4
}
