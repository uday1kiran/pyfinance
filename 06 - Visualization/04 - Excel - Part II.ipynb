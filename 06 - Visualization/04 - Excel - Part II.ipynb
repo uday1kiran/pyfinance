{
 "cells": [
  {
   "cell_type": "code",
   "execution_count": 1,
   "metadata": {},
   "outputs": [],
   "source": [
    "import pandas as pd"
   ]
  },
  {
   "cell_type": "code",
   "execution_count": 10,
   "metadata": {},
   "outputs": [],
   "source": [
    "ticker = \"NFLX\""
   ]
  },
  {
   "cell_type": "code",
   "execution_count": 14,
   "metadata": {},
   "outputs": [],
   "source": [
    "def read_annual_data(csv_file, ticker):\n",
    "    data = pd.read_csv(csv_file, index_col=0)\n",
    "    data = data[ticker]\n",
    "    data = data.pct_change()\n",
    "    data = data.loc[2009:2019]\n",
    "    return data"
   ]
  },
  {
   "cell_type": "code",
   "execution_count": 47,
   "metadata": {},
   "outputs": [],
   "source": [
    "def read_quartely_data(csv_file, ticker):\n",
    "    data = pd.read_csv(csv_file, index_col=0, parse_dates=True)\n",
    "    data = data[ticker]\n",
    "    data = data.resample('Y', convention='end').agg('mean')\n",
    "    data = data.pct_change()\n",
    "    data = data.loc['2009-01-01':'2019-12-31']\n",
    "    data.index = data.index.year\n",
    "    return data"
   ]
  },
  {
   "cell_type": "code",
   "execution_count": 51,
   "metadata": {},
   "outputs": [],
   "source": [
    "def read_quartely_ratio(csv_file, ticker):\n",
    "    data = pd.read_csv(csv_file, index_col=0, parse_dates=True)\n",
    "    data = data[ticker]\n",
    "    data = data.resample('Y', convention='end').agg('mean')\n",
    "    data = data.loc['2009-01-01':'2019-12-31']\n",
    "    data.index = data.index.year\n",
    "    return data"
   ]
  },
  {
   "cell_type": "code",
   "execution_count": 20,
   "metadata": {},
   "outputs": [],
   "source": [
    "rev = read_annual_data(\"50-rev.csv\", ticker)\n",
    "eps = read_annual_data(\"50-eps.csv\", ticker)\n",
    "fcf = read_annual_data(\"50-fcf.csv\", ticker)"
   ]
  },
  {
   "cell_type": "code",
   "execution_count": 48,
   "metadata": {
    "scrolled": true
   },
   "outputs": [],
   "source": [
    "bvps = read_quartely_data(\"50-bvps.csv\", ticker)"
   ]
  },
  {
   "cell_type": "code",
   "execution_count": 52,
   "metadata": {},
   "outputs": [],
   "source": [
    "roi = read_quartely_ratio(\"50-roi.csv\", ticker)\n",
    "de = read_quartely_ratio(\"50-de-ratio.csv\", ticker)\n",
    "pe = read_quartely_ratio(\"50-pe-ratio.csv\", ticker)\n",
    "current = read_quartely_ratio(\"50-current-ratio.csv\", ticker)"
   ]
  },
  {
   "cell_type": "code",
   "execution_count": 21,
   "metadata": {},
   "outputs": [],
   "source": [
    "def add_annual_data(writer, df, sheet_name):\n",
    "    df.to_excel(writer, sheet_name=sheet_name)\n",
    "    workbook = writer.book\n",
    "    worksheet = writer.sheets[sheet_name]\n",
    "\n",
    "    # Create a new chart object.\n",
    "    chart = workbook.add_chart({'type': 'line'})\n",
    "\n",
    "    # Add a series to the chart.\n",
    "    chart.add_series({\n",
    "        'name': sheet_name,\n",
    "        'categories': [sheet_name, 1, 0, 11, 0],\n",
    "        'values': [sheet_name, 1, 1, 11, 1],\n",
    "    })\n",
    "    \n",
    "    # To set the labels on x axis not on 0 and rotate\n",
    "    chart.set_x_axis({\n",
    "        'label_position': 'low',\n",
    "        'num_font':  {'rotation': 45}\n",
    "    })\n",
    "\n",
    "\n",
    "    # Insert the chart into the worksheet.\n",
    "    worksheet.insert_chart('D1', chart)"
   ]
  },
  {
   "cell_type": "code",
   "execution_count": 54,
   "metadata": {},
   "outputs": [],
   "source": [
    "writer = pd.ExcelWriter(\"data3.xlsx\", engine='xlsxwriter')\n",
    "\n",
    "add_annual_data(writer, rev, \"Revenue\")\n",
    "add_annual_data(writer, eps, \"EPS\")\n",
    "add_annual_data(writer, fcf, \"FCF\")\n",
    "add_annual_data(writer, bvps, \"BVPS\")\n",
    "add_annual_data(writer, roi, \"ROI\")\n",
    "add_annual_data(writer, de, \"DE\")\n",
    "add_annual_data(writer, pe, \"PE\")\n",
    "add_annual_data(writer, current, \"Current\")\n",
    "\n",
    "writer.close()"
   ]
  },
  {
   "cell_type": "code",
   "execution_count": null,
   "metadata": {},
   "outputs": [],
   "source": []
  }
 ],
 "metadata": {
  "kernelspec": {
   "display_name": "Python 3",
   "language": "python",
   "name": "python3"
  },
  "language_info": {
   "codemirror_mode": {
    "name": "ipython",
    "version": 3
   },
   "file_extension": ".py",
   "mimetype": "text/x-python",
   "name": "python",
   "nbconvert_exporter": "python",
   "pygments_lexer": "ipython3",
   "version": "3.8.5"
  }
 },
 "nbformat": 4,
 "nbformat_minor": 4
}
