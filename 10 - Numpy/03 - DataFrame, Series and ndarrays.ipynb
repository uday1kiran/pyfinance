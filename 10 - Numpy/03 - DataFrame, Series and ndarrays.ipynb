{
 "cells": [
  {
   "cell_type": "code",
   "execution_count": 1,
   "metadata": {},
   "outputs": [],
   "source": [
    "import numpy as np\n",
    "import pandas as pd"
   ]
  },
  {
   "cell_type": "code",
   "execution_count": 2,
   "metadata": {},
   "outputs": [],
   "source": [
    "data = pd.read_csv(\"ticker-fb.csv\", index_col=0, parse_dates=True)"
   ]
  },
  {
   "cell_type": "code",
   "execution_count": 3,
   "metadata": {},
   "outputs": [
    {
     "data": {
      "text/html": [
       "<div>\n",
       "<style scoped>\n",
       "    .dataframe tbody tr th:only-of-type {\n",
       "        vertical-align: middle;\n",
       "    }\n",
       "\n",
       "    .dataframe tbody tr th {\n",
       "        vertical-align: top;\n",
       "    }\n",
       "\n",
       "    .dataframe thead th {\n",
       "        text-align: right;\n",
       "    }\n",
       "</style>\n",
       "<table border=\"1\" class=\"dataframe\">\n",
       "  <thead>\n",
       "    <tr style=\"text-align: right;\">\n",
       "      <th></th>\n",
       "      <th>High</th>\n",
       "      <th>Low</th>\n",
       "      <th>Open</th>\n",
       "      <th>Close</th>\n",
       "      <th>Volume</th>\n",
       "      <th>Adj Close</th>\n",
       "    </tr>\n",
       "    <tr>\n",
       "      <th>Date</th>\n",
       "      <th></th>\n",
       "      <th></th>\n",
       "      <th></th>\n",
       "      <th></th>\n",
       "      <th></th>\n",
       "      <th></th>\n",
       "    </tr>\n",
       "  </thead>\n",
       "  <tbody>\n",
       "    <tr>\n",
       "      <th>2018-01-02</th>\n",
       "      <td>181.580002</td>\n",
       "      <td>177.550003</td>\n",
       "      <td>177.679993</td>\n",
       "      <td>181.419998</td>\n",
       "      <td>18151900</td>\n",
       "      <td>181.419998</td>\n",
       "    </tr>\n",
       "    <tr>\n",
       "      <th>2018-01-03</th>\n",
       "      <td>184.779999</td>\n",
       "      <td>181.330002</td>\n",
       "      <td>181.880005</td>\n",
       "      <td>184.669998</td>\n",
       "      <td>16886600</td>\n",
       "      <td>184.669998</td>\n",
       "    </tr>\n",
       "    <tr>\n",
       "      <th>2018-01-04</th>\n",
       "      <td>186.210007</td>\n",
       "      <td>184.100006</td>\n",
       "      <td>184.899994</td>\n",
       "      <td>184.330002</td>\n",
       "      <td>13880900</td>\n",
       "      <td>184.330002</td>\n",
       "    </tr>\n",
       "    <tr>\n",
       "      <th>2018-01-05</th>\n",
       "      <td>186.899994</td>\n",
       "      <td>184.929993</td>\n",
       "      <td>185.589996</td>\n",
       "      <td>186.850006</td>\n",
       "      <td>13574500</td>\n",
       "      <td>186.850006</td>\n",
       "    </tr>\n",
       "    <tr>\n",
       "      <th>2018-01-08</th>\n",
       "      <td>188.899994</td>\n",
       "      <td>186.330002</td>\n",
       "      <td>187.199997</td>\n",
       "      <td>188.279999</td>\n",
       "      <td>17994700</td>\n",
       "      <td>188.279999</td>\n",
       "    </tr>\n",
       "  </tbody>\n",
       "</table>\n",
       "</div>"
      ],
      "text/plain": [
       "                  High         Low        Open       Close    Volume  \\\n",
       "Date                                                                   \n",
       "2018-01-02  181.580002  177.550003  177.679993  181.419998  18151900   \n",
       "2018-01-03  184.779999  181.330002  181.880005  184.669998  16886600   \n",
       "2018-01-04  186.210007  184.100006  184.899994  184.330002  13880900   \n",
       "2018-01-05  186.899994  184.929993  185.589996  186.850006  13574500   \n",
       "2018-01-08  188.899994  186.330002  187.199997  188.279999  17994700   \n",
       "\n",
       "             Adj Close  \n",
       "Date                    \n",
       "2018-01-02  181.419998  \n",
       "2018-01-03  184.669998  \n",
       "2018-01-04  184.330002  \n",
       "2018-01-05  186.850006  \n",
       "2018-01-08  188.279999  "
      ]
     },
     "execution_count": 3,
     "metadata": {},
     "output_type": "execute_result"
    }
   ],
   "source": [
    "data.head()"
   ]
  },
  {
   "cell_type": "code",
   "execution_count": 5,
   "metadata": {},
   "outputs": [
    {
     "data": {
      "text/plain": [
       "numpy.ndarray"
      ]
     },
     "execution_count": 5,
     "metadata": {},
     "output_type": "execute_result"
    }
   ],
   "source": [
    "type(data.values)"
   ]
  },
  {
   "cell_type": "code",
   "execution_count": 6,
   "metadata": {},
   "outputs": [],
   "source": [
    "arr = data.values"
   ]
  },
  {
   "cell_type": "code",
   "execution_count": 7,
   "metadata": {},
   "outputs": [
    {
     "data": {
      "text/plain": [
       "(756, 6)"
      ]
     },
     "execution_count": 7,
     "metadata": {},
     "output_type": "execute_result"
    }
   ],
   "source": [
    "arr.shape"
   ]
  },
  {
   "cell_type": "code",
   "execution_count": 8,
   "metadata": {},
   "outputs": [
    {
     "data": {
      "text/plain": [
       "756"
      ]
     },
     "execution_count": 8,
     "metadata": {},
     "output_type": "execute_result"
    }
   ],
   "source": [
    "len(data)"
   ]
  },
  {
   "cell_type": "code",
   "execution_count": 9,
   "metadata": {},
   "outputs": [
    {
     "data": {
      "text/plain": [
       "2"
      ]
     },
     "execution_count": 9,
     "metadata": {},
     "output_type": "execute_result"
    }
   ],
   "source": [
    "arr.ndim"
   ]
  },
  {
   "cell_type": "code",
   "execution_count": 10,
   "metadata": {},
   "outputs": [
    {
     "data": {
      "text/plain": [
       "dtype('float64')"
      ]
     },
     "execution_count": 10,
     "metadata": {},
     "output_type": "execute_result"
    }
   ],
   "source": [
    "arr.dtype"
   ]
  },
  {
   "cell_type": "code",
   "execution_count": 12,
   "metadata": {},
   "outputs": [],
   "source": [
    "col = data['Close'].values"
   ]
  },
  {
   "cell_type": "code",
   "execution_count": 14,
   "metadata": {},
   "outputs": [
    {
     "data": {
      "text/plain": [
       "(756,)"
      ]
     },
     "execution_count": 14,
     "metadata": {},
     "output_type": "execute_result"
    }
   ],
   "source": [
    "col.shape"
   ]
  },
  {
   "cell_type": "code",
   "execution_count": 15,
   "metadata": {},
   "outputs": [
    {
     "data": {
      "text/plain": [
       "1"
      ]
     },
     "execution_count": 15,
     "metadata": {},
     "output_type": "execute_result"
    }
   ],
   "source": [
    "col.ndim"
   ]
  },
  {
   "cell_type": "code",
   "execution_count": 16,
   "metadata": {},
   "outputs": [
    {
     "data": {
      "text/plain": [
       "dtype('float64')"
      ]
     },
     "execution_count": 16,
     "metadata": {},
     "output_type": "execute_result"
    }
   ],
   "source": [
    "col.dtype"
   ]
  },
  {
   "cell_type": "code",
   "execution_count": 17,
   "metadata": {},
   "outputs": [],
   "source": [
    "vol = data['Volume'].values"
   ]
  },
  {
   "cell_type": "code",
   "execution_count": 18,
   "metadata": {},
   "outputs": [
    {
     "data": {
      "text/plain": [
       "dtype('int64')"
      ]
     },
     "execution_count": 18,
     "metadata": {},
     "output_type": "execute_result"
    }
   ],
   "source": [
    "vol.dtype"
   ]
  },
  {
   "cell_type": "code",
   "execution_count": 19,
   "metadata": {},
   "outputs": [
    {
     "data": {
      "text/plain": [
       "High         float64\n",
       "Low          float64\n",
       "Open         float64\n",
       "Close        float64\n",
       "Volume         int64\n",
       "Adj Close    float64\n",
       "dtype: object"
      ]
     },
     "execution_count": 19,
     "metadata": {},
     "output_type": "execute_result"
    }
   ],
   "source": [
    "data.dtypes"
   ]
  },
  {
   "cell_type": "markdown",
   "metadata": {},
   "source": [
    "## Reshape"
   ]
  },
  {
   "cell_type": "code",
   "execution_count": 20,
   "metadata": {},
   "outputs": [],
   "source": [
    "arr = data['Close'].iloc[-12:].values"
   ]
  },
  {
   "cell_type": "code",
   "execution_count": 21,
   "metadata": {},
   "outputs": [
    {
     "data": {
      "text/plain": [
       "array([275.54998779, 275.67001343, 274.48001099, 276.3999939 ,\n",
       "       272.79000854, 267.08999634, 268.10998535, 267.3999939 ,\n",
       "       277.        , 276.77999878, 271.86999512, 273.16000366])"
      ]
     },
     "execution_count": 21,
     "metadata": {},
     "output_type": "execute_result"
    }
   ],
   "source": [
    "arr"
   ]
  },
  {
   "cell_type": "code",
   "execution_count": 22,
   "metadata": {},
   "outputs": [
    {
     "data": {
      "text/plain": [
       "(12,)"
      ]
     },
     "execution_count": 22,
     "metadata": {},
     "output_type": "execute_result"
    }
   ],
   "source": [
    "arr.shape"
   ]
  },
  {
   "cell_type": "code",
   "execution_count": 23,
   "metadata": {},
   "outputs": [
    {
     "data": {
      "text/plain": [
       "1"
      ]
     },
     "execution_count": 23,
     "metadata": {},
     "output_type": "execute_result"
    }
   ],
   "source": [
    "arr.ndim"
   ]
  },
  {
   "cell_type": "code",
   "execution_count": 24,
   "metadata": {},
   "outputs": [
    {
     "data": {
      "text/plain": [
       "dtype('float64')"
      ]
     },
     "execution_count": 24,
     "metadata": {},
     "output_type": "execute_result"
    }
   ],
   "source": [
    "arr.dtype"
   ]
  },
  {
   "cell_type": "code",
   "execution_count": 25,
   "metadata": {},
   "outputs": [
    {
     "data": {
      "text/plain": [
       "array([[275.54998779, 275.67001343, 274.48001099, 276.3999939 ],\n",
       "       [272.79000854, 267.08999634, 268.10998535, 267.3999939 ],\n",
       "       [277.        , 276.77999878, 271.86999512, 273.16000366]])"
      ]
     },
     "execution_count": 25,
     "metadata": {},
     "output_type": "execute_result"
    }
   ],
   "source": [
    "arr.reshape(3, 4)"
   ]
  },
  {
   "cell_type": "code",
   "execution_count": 26,
   "metadata": {},
   "outputs": [
    {
     "data": {
      "text/plain": [
       "array([[275.54998779, 275.67001343, 274.48001099],\n",
       "       [276.3999939 , 272.79000854, 267.08999634],\n",
       "       [268.10998535, 267.3999939 , 277.        ],\n",
       "       [276.77999878, 271.86999512, 273.16000366]])"
      ]
     },
     "execution_count": 26,
     "metadata": {},
     "output_type": "execute_result"
    }
   ],
   "source": [
    "arr.reshape(4, 3)"
   ]
  },
  {
   "cell_type": "code",
   "execution_count": 28,
   "metadata": {},
   "outputs": [
    {
     "data": {
      "text/plain": [
       "array([[275.54998779],\n",
       "       [275.67001343],\n",
       "       [274.48001099],\n",
       "       [276.3999939 ],\n",
       "       [272.79000854],\n",
       "       [267.08999634],\n",
       "       [268.10998535],\n",
       "       [267.3999939 ],\n",
       "       [277.        ],\n",
       "       [276.77999878],\n",
       "       [271.86999512],\n",
       "       [273.16000366]])"
      ]
     },
     "execution_count": 28,
     "metadata": {},
     "output_type": "execute_result"
    }
   ],
   "source": [
    "arr.reshape(12, 1)"
   ]
  },
  {
   "cell_type": "code",
   "execution_count": 29,
   "metadata": {},
   "outputs": [
    {
     "data": {
      "text/plain": [
       "array([[275.54998779],\n",
       "       [275.67001343],\n",
       "       [274.48001099],\n",
       "       [276.3999939 ],\n",
       "       [272.79000854],\n",
       "       [267.08999634],\n",
       "       [268.10998535],\n",
       "       [267.3999939 ],\n",
       "       [277.        ],\n",
       "       [276.77999878],\n",
       "       [271.86999512],\n",
       "       [273.16000366]])"
      ]
     },
     "execution_count": 29,
     "metadata": {},
     "output_type": "execute_result"
    }
   ],
   "source": [
    "arr.reshape(len(arr), 1)"
   ]
  },
  {
   "cell_type": "code",
   "execution_count": 30,
   "metadata": {},
   "outputs": [
    {
     "data": {
      "text/plain": [
       "array([[275.54998779],\n",
       "       [275.67001343],\n",
       "       [274.48001099],\n",
       "       [276.3999939 ],\n",
       "       [272.79000854],\n",
       "       [267.08999634],\n",
       "       [268.10998535],\n",
       "       [267.3999939 ],\n",
       "       [277.        ],\n",
       "       [276.77999878],\n",
       "       [271.86999512],\n",
       "       [273.16000366]])"
      ]
     },
     "execution_count": 30,
     "metadata": {},
     "output_type": "execute_result"
    }
   ],
   "source": [
    "arr.reshape(-1, 1)"
   ]
  },
  {
   "cell_type": "markdown",
   "metadata": {},
   "source": [
    "## Multiplication"
   ]
  },
  {
   "cell_type": "code",
   "execution_count": 31,
   "metadata": {},
   "outputs": [
    {
     "data": {
      "text/html": [
       "<div>\n",
       "<style scoped>\n",
       "    .dataframe tbody tr th:only-of-type {\n",
       "        vertical-align: middle;\n",
       "    }\n",
       "\n",
       "    .dataframe tbody tr th {\n",
       "        vertical-align: top;\n",
       "    }\n",
       "\n",
       "    .dataframe thead th {\n",
       "        text-align: right;\n",
       "    }\n",
       "</style>\n",
       "<table border=\"1\" class=\"dataframe\">\n",
       "  <thead>\n",
       "    <tr style=\"text-align: right;\">\n",
       "      <th></th>\n",
       "      <th>High</th>\n",
       "      <th>Low</th>\n",
       "      <th>Open</th>\n",
       "      <th>Close</th>\n",
       "      <th>Volume</th>\n",
       "      <th>Adj Close</th>\n",
       "    </tr>\n",
       "    <tr>\n",
       "      <th>Date</th>\n",
       "      <th></th>\n",
       "      <th></th>\n",
       "      <th></th>\n",
       "      <th></th>\n",
       "      <th></th>\n",
       "      <th></th>\n",
       "    </tr>\n",
       "  </thead>\n",
       "  <tbody>\n",
       "    <tr>\n",
       "      <th>2018-01-02</th>\n",
       "      <td>181.580002</td>\n",
       "      <td>177.550003</td>\n",
       "      <td>177.679993</td>\n",
       "      <td>181.419998</td>\n",
       "      <td>18151900</td>\n",
       "      <td>181.419998</td>\n",
       "    </tr>\n",
       "    <tr>\n",
       "      <th>2018-01-03</th>\n",
       "      <td>184.779999</td>\n",
       "      <td>181.330002</td>\n",
       "      <td>181.880005</td>\n",
       "      <td>184.669998</td>\n",
       "      <td>16886600</td>\n",
       "      <td>184.669998</td>\n",
       "    </tr>\n",
       "    <tr>\n",
       "      <th>2018-01-04</th>\n",
       "      <td>186.210007</td>\n",
       "      <td>184.100006</td>\n",
       "      <td>184.899994</td>\n",
       "      <td>184.330002</td>\n",
       "      <td>13880900</td>\n",
       "      <td>184.330002</td>\n",
       "    </tr>\n",
       "    <tr>\n",
       "      <th>2018-01-05</th>\n",
       "      <td>186.899994</td>\n",
       "      <td>184.929993</td>\n",
       "      <td>185.589996</td>\n",
       "      <td>186.850006</td>\n",
       "      <td>13574500</td>\n",
       "      <td>186.850006</td>\n",
       "    </tr>\n",
       "    <tr>\n",
       "      <th>2018-01-08</th>\n",
       "      <td>188.899994</td>\n",
       "      <td>186.330002</td>\n",
       "      <td>187.199997</td>\n",
       "      <td>188.279999</td>\n",
       "      <td>17994700</td>\n",
       "      <td>188.279999</td>\n",
       "    </tr>\n",
       "  </tbody>\n",
       "</table>\n",
       "</div>"
      ],
      "text/plain": [
       "                  High         Low        Open       Close    Volume  \\\n",
       "Date                                                                   \n",
       "2018-01-02  181.580002  177.550003  177.679993  181.419998  18151900   \n",
       "2018-01-03  184.779999  181.330002  181.880005  184.669998  16886600   \n",
       "2018-01-04  186.210007  184.100006  184.899994  184.330002  13880900   \n",
       "2018-01-05  186.899994  184.929993  185.589996  186.850006  13574500   \n",
       "2018-01-08  188.899994  186.330002  187.199997  188.279999  17994700   \n",
       "\n",
       "             Adj Close  \n",
       "Date                    \n",
       "2018-01-02  181.419998  \n",
       "2018-01-03  184.669998  \n",
       "2018-01-04  184.330002  \n",
       "2018-01-05  186.850006  \n",
       "2018-01-08  188.279999  "
      ]
     },
     "execution_count": 31,
     "metadata": {},
     "output_type": "execute_result"
    }
   ],
   "source": [
    "data.head()"
   ]
  },
  {
   "cell_type": "code",
   "execution_count": 35,
   "metadata": {},
   "outputs": [
    {
     "data": {
      "text/html": [
       "<div>\n",
       "<style scoped>\n",
       "    .dataframe tbody tr th:only-of-type {\n",
       "        vertical-align: middle;\n",
       "    }\n",
       "\n",
       "    .dataframe tbody tr th {\n",
       "        vertical-align: top;\n",
       "    }\n",
       "\n",
       "    .dataframe thead th {\n",
       "        text-align: right;\n",
       "    }\n",
       "</style>\n",
       "<table border=\"1\" class=\"dataframe\">\n",
       "  <thead>\n",
       "    <tr style=\"text-align: right;\">\n",
       "      <th></th>\n",
       "      <th>High</th>\n",
       "      <th>Low</th>\n",
       "      <th>Open</th>\n",
       "      <th>Close</th>\n",
       "      <th>Volume</th>\n",
       "      <th>Adj Close</th>\n",
       "    </tr>\n",
       "    <tr>\n",
       "      <th>Date</th>\n",
       "      <th></th>\n",
       "      <th></th>\n",
       "      <th></th>\n",
       "      <th></th>\n",
       "      <th></th>\n",
       "      <th></th>\n",
       "    </tr>\n",
       "  </thead>\n",
       "  <tbody>\n",
       "    <tr>\n",
       "      <th>2018-01-02</th>\n",
       "      <td>363160.003662</td>\n",
       "      <td>532650.009155</td>\n",
       "      <td>7.107200e+05</td>\n",
       "      <td>181419.998169</td>\n",
       "      <td>0.0</td>\n",
       "      <td>0.0</td>\n",
       "    </tr>\n",
       "    <tr>\n",
       "      <th>2018-01-03</th>\n",
       "      <td>369559.997559</td>\n",
       "      <td>543990.005493</td>\n",
       "      <td>7.275200e+05</td>\n",
       "      <td>184669.998169</td>\n",
       "      <td>0.0</td>\n",
       "      <td>0.0</td>\n",
       "    </tr>\n",
       "    <tr>\n",
       "      <th>2018-01-04</th>\n",
       "      <td>372420.013428</td>\n",
       "      <td>552300.018311</td>\n",
       "      <td>7.396000e+05</td>\n",
       "      <td>184330.001831</td>\n",
       "      <td>0.0</td>\n",
       "      <td>0.0</td>\n",
       "    </tr>\n",
       "    <tr>\n",
       "      <th>2018-01-05</th>\n",
       "      <td>373799.987793</td>\n",
       "      <td>554789.978027</td>\n",
       "      <td>7.423600e+05</td>\n",
       "      <td>186850.006104</td>\n",
       "      <td>0.0</td>\n",
       "      <td>0.0</td>\n",
       "    </tr>\n",
       "    <tr>\n",
       "      <th>2018-01-08</th>\n",
       "      <td>377799.987793</td>\n",
       "      <td>558990.005493</td>\n",
       "      <td>7.488000e+05</td>\n",
       "      <td>188279.998779</td>\n",
       "      <td>0.0</td>\n",
       "      <td>0.0</td>\n",
       "    </tr>\n",
       "    <tr>\n",
       "      <th>...</th>\n",
       "      <td>...</td>\n",
       "      <td>...</td>\n",
       "      <td>...</td>\n",
       "      <td>...</td>\n",
       "      <td>...</td>\n",
       "      <td>...</td>\n",
       "    </tr>\n",
       "    <tr>\n",
       "      <th>2020-12-24</th>\n",
       "      <td>540799.987793</td>\n",
       "      <td>798600.036621</td>\n",
       "      <td>1.075520e+06</td>\n",
       "      <td>267399.993896</td>\n",
       "      <td>0.0</td>\n",
       "      <td>0.0</td>\n",
       "    </tr>\n",
       "    <tr>\n",
       "      <th>2020-12-28</th>\n",
       "      <td>554599.975586</td>\n",
       "      <td>796980.010986</td>\n",
       "      <td>1.074960e+06</td>\n",
       "      <td>277000.000000</td>\n",
       "      <td>0.0</td>\n",
       "      <td>0.0</td>\n",
       "    </tr>\n",
       "    <tr>\n",
       "      <th>2020-12-29</th>\n",
       "      <td>561020.019531</td>\n",
       "      <td>828839.996338</td>\n",
       "      <td>1.107800e+06</td>\n",
       "      <td>276779.998779</td>\n",
       "      <td>0.0</td>\n",
       "      <td>0.0</td>\n",
       "    </tr>\n",
       "    <tr>\n",
       "      <th>2020-12-30</th>\n",
       "      <td>556159.973145</td>\n",
       "      <td>815129.974365</td>\n",
       "      <td>1.111800e+06</td>\n",
       "      <td>271869.995117</td>\n",
       "      <td>0.0</td>\n",
       "      <td>0.0</td>\n",
       "    </tr>\n",
       "    <tr>\n",
       "      <th>2020-12-31</th>\n",
       "      <td>554179.992676</td>\n",
       "      <td>809429.992676</td>\n",
       "      <td>1.088000e+06</td>\n",
       "      <td>273160.003662</td>\n",
       "      <td>0.0</td>\n",
       "      <td>0.0</td>\n",
       "    </tr>\n",
       "  </tbody>\n",
       "</table>\n",
       "<p>756 rows × 6 columns</p>\n",
       "</div>"
      ],
      "text/plain": [
       "                     High            Low          Open          Close  Volume  \\\n",
       "Date                                                                            \n",
       "2018-01-02  363160.003662  532650.009155  7.107200e+05  181419.998169     0.0   \n",
       "2018-01-03  369559.997559  543990.005493  7.275200e+05  184669.998169     0.0   \n",
       "2018-01-04  372420.013428  552300.018311  7.396000e+05  184330.001831     0.0   \n",
       "2018-01-05  373799.987793  554789.978027  7.423600e+05  186850.006104     0.0   \n",
       "2018-01-08  377799.987793  558990.005493  7.488000e+05  188279.998779     0.0   \n",
       "...                   ...            ...           ...            ...     ...   \n",
       "2020-12-24  540799.987793  798600.036621  1.075520e+06  267399.993896     0.0   \n",
       "2020-12-28  554599.975586  796980.010986  1.074960e+06  277000.000000     0.0   \n",
       "2020-12-29  561020.019531  828839.996338  1.107800e+06  276779.998779     0.0   \n",
       "2020-12-30  556159.973145  815129.974365  1.111800e+06  271869.995117     0.0   \n",
       "2020-12-31  554179.992676  809429.992676  1.088000e+06  273160.003662     0.0   \n",
       "\n",
       "            Adj Close  \n",
       "Date                   \n",
       "2018-01-02        0.0  \n",
       "2018-01-03        0.0  \n",
       "2018-01-04        0.0  \n",
       "2018-01-05        0.0  \n",
       "2018-01-08        0.0  \n",
       "...               ...  \n",
       "2020-12-24        0.0  \n",
       "2020-12-28        0.0  \n",
       "2020-12-29        0.0  \n",
       "2020-12-30        0.0  \n",
       "2020-12-31        0.0  \n",
       "\n",
       "[756 rows x 6 columns]"
      ]
     },
     "execution_count": 35,
     "metadata": {},
     "output_type": "execute_result"
    }
   ],
   "source": [
    "data*np.array([0.2, 0.3, 0.4, 0.1, 0, 0])*10000"
   ]
  },
  {
   "cell_type": "code",
   "execution_count": null,
   "metadata": {},
   "outputs": [],
   "source": []
  }
 ],
 "metadata": {
  "kernelspec": {
   "display_name": "Python 3",
   "language": "python",
   "name": "python3"
  },
  "language_info": {
   "codemirror_mode": {
    "name": "ipython",
    "version": 3
   },
   "file_extension": ".py",
   "mimetype": "text/x-python",
   "name": "python",
   "nbconvert_exporter": "python",
   "pygments_lexer": "ipython3",
   "version": "3.8.5"
  }
 },
 "nbformat": 4,
 "nbformat_minor": 4
}
